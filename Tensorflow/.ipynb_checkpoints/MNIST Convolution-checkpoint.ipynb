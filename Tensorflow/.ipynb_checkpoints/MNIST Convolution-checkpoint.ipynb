{
 "cells": [
  {
   "cell_type": "code",
   "execution_count": 1,
   "metadata": {
    "colab": {
     "base_uri": "https://localhost:8080/",
     "height": 34
    },
    "colab_type": "code",
    "executionInfo": {
     "elapsed": 3154,
     "status": "ok",
     "timestamp": 1588502595550,
     "user": {
      "displayName": "Pratik Garai",
      "photoUrl": "",
      "userId": "04528405296181255182"
     },
     "user_tz": -330
    },
    "id": "JT8gHB4xGsbs",
    "outputId": "cbb2bcd2-806f-4fd2-faa7-b3b2a53a2cd8"
   },
   "outputs": [
    {
     "name": "stdout",
     "output_type": "stream",
     "text": [
      "Found GPU at: /device:GPU:0\n"
     ]
    }
   ],
   "source": [
    "import tensorflow as tf\n",
    "import pandas as pd\n",
    "import numpy as np\n",
    "device_name = tf.test.gpu_device_name()\n",
    "if device_name != '/device:GPU:0':\n",
    "  raise SystemError('GPU device not found')\n",
    "print('Found GPU at: {}'.format(device_name))"
   ]
  },
  {
   "cell_type": "code",
   "execution_count": 2,
   "metadata": {
    "colab": {
     "base_uri": "https://localhost:8080/",
     "height": 121
    },
    "colab_type": "code",
    "executionInfo": {
     "elapsed": 3081,
     "status": "ok",
     "timestamp": 1588502595563,
     "user": {
      "displayName": "Pratik Garai",
      "photoUrl": "",
      "userId": "04528405296181255182"
     },
     "user_tz": -330
    },
    "id": "mw8fVMcRGbjF",
    "outputId": "7a56e9f5-8647-48ca-9c75-7ffba1fb36d8"
   },
   "outputs": [
    {
     "name": "stdout",
     "output_type": "stream",
     "text": [
      "<class 'numpy.ndarray'>\n",
      "(60000, 28, 28)\n",
      "uint8\n",
      "<class 'numpy.ndarray'>\n",
      "(60000,)\n",
      "uint8\n"
     ]
    }
   ],
   "source": [
    "(X, Y), (test_images, test_labels) = tf.keras.datasets.mnist.load_data()\n",
    "tf.compat.v1.disable_eager_execution()\n",
    "print(type(X))\n",
    "print(X.shape)\n",
    "print(X.dtype)\n",
    "print(type(Y))\n",
    "print(Y.shape)\n",
    "print(Y.dtype)"
   ]
  },
  {
   "cell_type": "code",
   "execution_count": 3,
   "metadata": {
    "colab": {
     "base_uri": "https://localhost:8080/",
     "height": 86
    },
    "colab_type": "code",
    "executionInfo": {
     "elapsed": 3785,
     "status": "ok",
     "timestamp": 1588502596339,
     "user": {
      "displayName": "Pratik Garai",
      "photoUrl": "",
      "userId": "04528405296181255182"
     },
     "user_tz": -330
    },
    "id": "FDhLR8BLHcCU",
    "outputId": "9d280142-3fea-4969-b4a3-364ff66ac846"
   },
   "outputs": [
    {
     "name": "stdout",
     "output_type": "stream",
     "text": [
      "(60000, 10)\n",
      "float64\n",
      "(60000, 784)\n",
      "float64\n"
     ]
    }
   ],
   "source": [
    "X = X.reshape(len(X),784)\n",
    "lk = []\n",
    "def onehot(xi):\n",
    "  l = [0.0,0.0,0.0,0.0,0.0,0.0,0.0,0.0,0.0,0.0]\n",
    "  l[xi] = 1.0\n",
    "  return np.array(l)\n",
    "for i in range(len(Y)):\n",
    "  lk.append(onehot(Y[i]))\n",
    "Y = np.array(lk, dtype = float)\n",
    "X = np.array(X, dtype = float)\n",
    "print(Y.shape)\n",
    "print(X.dtype)\n",
    "print(X.shape)\n",
    "print(Y.dtype)"
   ]
  },
  {
   "cell_type": "code",
   "execution_count": 0,
   "metadata": {
    "colab": {},
    "colab_type": "code",
    "id": "WGoLmk0dHqBx"
   },
   "outputs": [],
   "source": [
    "#WEIGHTS INITIALIZER\n",
    "def init_weights(shape):\n",
    "  init_random_dist = tf.compat.v1.truncated_normal(shape,stddev=0.1)\n",
    "  return tf.Variable(init_random_dist)"
   ]
  },
  {
   "cell_type": "code",
   "execution_count": 0,
   "metadata": {
    "colab": {},
    "colab_type": "code",
    "id": "VI1uumgnIkMF"
   },
   "outputs": [],
   "source": [
    "#BIAS INITIALIZER\n",
    "def init_bias(shape):\n",
    "  init_bias_vals = tf.constant(0.1,shape=shape)\n",
    "  return tf.Variable(init_bias_vals)"
   ]
  },
  {
   "cell_type": "code",
   "execution_count": 0,
   "metadata": {
    "colab": {},
    "colab_type": "code",
    "id": "oWI984JBI6pb"
   },
   "outputs": [],
   "source": [
    "#CONVOLUTION\n",
    "def conv(x,W):\n",
    "  #x (input) -->[batch, height, width, channels]\n",
    "  #W (weights) --> [filter H, filter W, channels in, channels out]\n",
    "  return tf.nn.conv2d(x,W,strides = [1,1,1,1], padding = 'SAME')"
   ]
  },
  {
   "cell_type": "code",
   "execution_count": 0,
   "metadata": {
    "colab": {},
    "colab_type": "code",
    "id": "8Wc66FPqJzDk"
   },
   "outputs": [],
   "source": [
    "#POOLING LAYER\n",
    "def pool(x):\n",
    "  #x --> same as above\n",
    "  return tf.nn.max_pool(x,ksize = [1,2,2,1], strides=[1,2,2,1], padding='SAME')"
   ]
  },
  {
   "cell_type": "code",
   "execution_count": 0,
   "metadata": {
    "colab": {},
    "colab_type": "code",
    "id": "xY9isFfaKYGy"
   },
   "outputs": [],
   "source": [
    "#CONVOLUTIONAL LAYER\n",
    "def convolutional_layer(input_x, shape):\n",
    "  W = init_weights(shape)\n",
    "  b = init_bias([shape[3]])\n",
    "  return tf.nn.relu(conv(input_x, W)+b)"
   ]
  },
  {
   "cell_type": "code",
   "execution_count": 0,
   "metadata": {
    "colab": {},
    "colab_type": "code",
    "id": "Whg3WTUTLE4L"
   },
   "outputs": [],
   "source": [
    "#NORMAL (FULLY CONNECTED)\n",
    "def normal_full_layer(input_layer,size):\n",
    "  input_size = int(input_layer.get_shape()[1])\n",
    "  W = init_weights([input_size,size])\n",
    "  b = init_bias([size])\n",
    "  return tf.matmul(input_layer,W)+b"
   ]
  },
  {
   "cell_type": "code",
   "execution_count": 0,
   "metadata": {
    "colab": {},
    "colab_type": "code",
    "id": "Ij6jVqFlMb8g"
   },
   "outputs": [],
   "source": [
    "#PLACEHOLDERS\n",
    "x = tf.compat.v1.placeholder(tf.float32, shape=[None, 784])\n",
    "y_true = tf.compat.v1.placeholder(tf.float32, shape=[None,10])"
   ]
  },
  {
   "cell_type": "code",
   "execution_count": 11,
   "metadata": {
    "colab": {
     "base_uri": "https://localhost:8080/",
     "height": 89
    },
    "colab_type": "code",
    "executionInfo": {
     "elapsed": 3452,
     "status": "ok",
     "timestamp": 1588502596389,
     "user": {
      "displayName": "Pratik Garai",
      "photoUrl": "",
      "userId": "04528405296181255182"
     },
     "user_tz": -330
    },
    "id": "MJ4XbDzoNBne",
    "outputId": "77619492-e6fd-496b-b092-389c12354a16"
   },
   "outputs": [
    {
     "name": "stdout",
     "output_type": "stream",
     "text": [
      "WARNING:tensorflow:From /usr/local/lib/python3.6/dist-packages/tensorflow/python/ops/resource_variable_ops.py:1666: calling BaseResourceVariable.__init__ (from tensorflow.python.ops.resource_variable_ops) with constraint is deprecated and will be removed in a future version.\n",
      "Instructions for updating:\n",
      "If using Keras pass *_constraint arguments to layers.\n"
     ]
    }
   ],
   "source": [
    "#LAYERS\n",
    "x_image = tf.reshape(x, [-1,28,28,1])\n",
    "convo1 = convolutional_layer(x_image, shape=[5,5,1,32])\n",
    "#shape =[a,b,c,d]\n",
    "#here a,b = batch size; c= input_featres , d=output_features\n",
    "convo1_pooling  = pool(convo1)\n",
    "convo2 = convolutional_layer(convo1_pooling, shape=[5,5,32,64])\n",
    "convo2_pooling = pool(convo2)\n",
    "\n",
    "convo2_flat = tf.reshape(convo2_pooling, [-1,7*7*64])\n",
    "full_layer_1 = tf.nn.relu(normal_full_layer(convo2_flat ,1024))"
   ]
  },
  {
   "cell_type": "code",
   "execution_count": 0,
   "metadata": {
    "colab": {},
    "colab_type": "code",
    "id": "6BfD_BgDWf6o"
   },
   "outputs": [],
   "source": [
    "#DROPOUT\n",
    "drop_prob = tf.compat.v1.placeholder(tf.float32)\n",
    "full_one_dropout = tf.nn.dropout(full_layer_1, rate = drop_prob)"
   ]
  },
  {
   "cell_type": "code",
   "execution_count": 0,
   "metadata": {
    "colab": {},
    "colab_type": "code",
    "id": "XPoivbZt9-37"
   },
   "outputs": [],
   "source": [
    "y_pred = normal_full_layer(full_one_dropout, 10)"
   ]
  },
  {
   "cell_type": "code",
   "execution_count": 0,
   "metadata": {
    "colab": {},
    "colab_type": "code",
    "id": "BJrwOdjZ-S3D"
   },
   "outputs": [],
   "source": [
    "#LOSS FUNCTION\n",
    "cross_entropy = tf.reduce_mean(tf.nn.softmax_cross_entropy_with_logits(labels=y_true, logits=y_pred))"
   ]
  },
  {
   "cell_type": "code",
   "execution_count": 0,
   "metadata": {
    "colab": {},
    "colab_type": "code",
    "id": "jPXH-C2G-yYF"
   },
   "outputs": [],
   "source": [
    "#OPTIMIZER\n",
    "optimizer = tf.compat.v1.train.AdamOptimizer(learning_rate=0.001)\n",
    "train = optimizer.minimize(cross_entropy)"
   ]
  },
  {
   "cell_type": "code",
   "execution_count": 0,
   "metadata": {
    "colab": {},
    "colab_type": "code",
    "id": "6o0Os5Zj_SHO"
   },
   "outputs": [],
   "source": [
    "init = tf.compat.v1.global_variables_initializer()"
   ]
  },
  {
   "cell_type": "code",
   "execution_count": 17,
   "metadata": {
    "colab": {
     "base_uri": "https://localhost:8080/",
     "height": 1000
    },
    "colab_type": "code",
    "executionInfo": {
     "elapsed": 96177,
     "status": "ok",
     "timestamp": 1588502689326,
     "user": {
      "displayName": "Pratik Garai",
      "photoUrl": "",
      "userId": "04528405296181255182"
     },
     "user_tz": -330
    },
    "id": "_geLd-2O_biL",
    "outputId": "bdcd4a9f-a605-4a46-cde8-91847cfb6108"
   },
   "outputs": [
    {
     "name": "stdout",
     "output_type": "stream",
     "text": [
      "ON STEP : 1000\n",
      "Accuracy :  0.9702833\n",
      "\n",
      "ON STEP : 2000\n",
      "Accuracy :  0.97855\n",
      "\n",
      "ON STEP : 3000\n",
      "Accuracy :  0.97831666\n",
      "\n",
      "ON STEP : 4000\n",
      "Accuracy :  0.97715\n",
      "\n",
      "ON STEP : 5000\n",
      "Accuracy :  0.98361665\n",
      "\n",
      "ON STEP : 6000\n",
      "Accuracy :  0.96753335\n",
      "\n",
      "ON STEP : 7000\n",
      "Accuracy :  0.98943335\n",
      "\n",
      "ON STEP : 8000\n",
      "Accuracy :  0.97905\n",
      "\n",
      "ON STEP : 9000\n",
      "Accuracy :  0.98656666\n",
      "\n",
      "ON STEP : 10000\n",
      "Accuracy :  0.98468333\n",
      "\n",
      "ON STEP : 11000\n",
      "Accuracy :  0.9889\n",
      "\n",
      "ON STEP : 12000\n",
      "Accuracy :  0.9896333\n",
      "\n",
      "ON STEP : 13000\n",
      "Accuracy :  0.9914167\n",
      "\n",
      "ON STEP : 14000\n",
      "Accuracy :  0.9898\n",
      "\n",
      "ON STEP : 15000\n",
      "Accuracy :  0.99215\n",
      "\n",
      "ON STEP : 16000\n",
      "Accuracy :  0.99396664\n",
      "\n",
      "ON STEP : 17000\n",
      "Accuracy :  0.9918\n",
      "\n",
      "ON STEP : 18000\n",
      "Accuracy :  0.9961\n",
      "\n",
      "ON STEP : 19000\n",
      "Accuracy :  0.9929\n",
      "\n",
      "ON STEP : 20000\n",
      "Accuracy :  0.99328333\n",
      "\n",
      "ON STEP : 21000\n",
      "Accuracy :  0.99545\n",
      "\n",
      "ON STEP : 22000\n",
      "Accuracy :  0.99325\n",
      "\n",
      "ON STEP : 23000\n",
      "Accuracy :  0.99305\n",
      "\n",
      "ON STEP : 24000\n",
      "Accuracy :  0.996\n",
      "\n",
      "ON STEP : 25000\n",
      "Accuracy :  0.99586666\n",
      "\n"
     ]
    }
   ],
   "source": [
    "#CREATE SESSION\n",
    "counter = 0 \n",
    "steps = 25000\n",
    "batch_size = 50\n",
    "drop_probability = 0.3  \n",
    "init = tf.compat.v1.global_variables_initializer()\n",
    "with tf.compat.v1.Session() as sess:\n",
    "  sess.run(init)\n",
    "  for i in range(steps):\n",
    "    if(counter==len(X)):\n",
    "      counter = 0\n",
    "    batch_x  , batch_y = X[counter:counter+batch_size , :] , Y[counter:counter+batch_size , :]\n",
    "    counter+= batch_size\n",
    "    sess.run(train, feed_dict={x:batch_x, y_true:batch_y, drop_prob:drop_probability})\n",
    "\n",
    "    if (i+1)%1000==0:\n",
    "      print('ON STEP : {}'.format(i+1))\n",
    "      matches = tf.equal(tf.argmax(y_pred,1),tf.argmax(y_true,1))\n",
    "      acc = tf.reduce_mean(tf.cast(matches,tf.float32))\n",
    "      print(\"Accuracy : \", sess.run(acc,feed_dict={ x:X, y_true:Y, drop_prob:0.0})) \n",
    "      print()\n",
    "  \n",
    "  #SAVING MODEL\n",
    "  saver = tf.compat.v1.train.Saver()\n",
    "  saver.save(sess, 'mnist_convo.ckpt')"
   ]
  }
 ],
 "metadata": {
  "accelerator": "GPU",
  "colab": {
   "authorship_tag": "ABX9TyNxUxAhGDFXtUd0PGHuXDKQ",
   "collapsed_sections": [],
   "name": "MNIST Convolution.ipynb",
   "provenance": []
  },
  "kernelspec": {
   "display_name": "Python 3",
   "language": "python",
   "name": "python3"
  },
  "language_info": {
   "codemirror_mode": {
    "name": "ipython",
    "version": 3
   },
   "file_extension": ".py",
   "mimetype": "text/x-python",
   "name": "python",
   "nbconvert_exporter": "python",
   "pygments_lexer": "ipython3",
   "version": "3.8.2"
  }
 },
 "nbformat": 4,
 "nbformat_minor": 1
}
