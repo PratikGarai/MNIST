{
  "nbformat": 4,
  "nbformat_minor": 0,
  "metadata": {
    "colab": {
      "name": "MNIST Raw Approach.ipynb",
      "provenance": [],
      "collapsed_sections": []
    },
    "kernelspec": {
      "name": "python3",
      "display_name": "Python 3"
    },
    "accelerator": "GPU"
  },
  "cells": [
    {
      "cell_type": "code",
      "metadata": {
        "id": "cL1dCak7cohU",
        "colab_type": "code",
        "outputId": "74fc8d37-8d2a-47c5-d7c1-06fe2923051a",
        "colab": {
          "base_uri": "https://localhost:8080/",
          "height": 34
        }
      },
      "source": [
        "import tensorflow as tf\n",
        "import pandas as pd\n",
        "import numpy as np\n",
        "device_name = tf.test.gpu_device_name()\n",
        "if device_name != '/device:GPU:0':\n",
        "  raise SystemError('GPU device not found')\n",
        "print('Found GPU at: {}'.format(device_name))"
      ],
      "execution_count": 1,
      "outputs": [
        {
          "output_type": "stream",
          "text": [
            "Found GPU at: /device:GPU:0\n"
          ],
          "name": "stdout"
        }
      ]
    },
    {
      "cell_type": "code",
      "metadata": {
        "id": "i66yJ51eRDaI",
        "colab_type": "code",
        "outputId": "69c2f4dc-c8ff-4531-d783-ac84f826aeae",
        "colab": {
          "base_uri": "https://localhost:8080/",
          "height": 121
        }
      },
      "source": [
        "(X, Y), (X1, Y1) = tf.keras.datasets.mnist.load_data()\n",
        "tf.compat.v1.disable_eager_execution()\n",
        "print(type(X))\n",
        "print(X.shape)\n",
        "print(X.dtype)\n",
        "print(type(Y))\n",
        "print(Y.shape)\n",
        "print(Y.dtype)"
      ],
      "execution_count": 2,
      "outputs": [
        {
          "output_type": "stream",
          "text": [
            "<class 'numpy.ndarray'>\n",
            "(60000, 28, 28)\n",
            "uint8\n",
            "<class 'numpy.ndarray'>\n",
            "(60000,)\n",
            "uint8\n"
          ],
          "name": "stdout"
        }
      ]
    },
    {
      "cell_type": "code",
      "metadata": {
        "id": "IqDVnndUXVdq",
        "colab_type": "code",
        "outputId": "ccdaaaa8-45f1-4304-c7b9-13025f10343d",
        "colab": {
          "base_uri": "https://localhost:8080/",
          "height": 86
        }
      },
      "source": [
        "#FOR TRAINING\n",
        "X = X.reshape(len(X),784)\n",
        "lk = []\n",
        "def onehot(xi):\n",
        "  l = [0.0,0.0,0.0,0.0,0.0,0.0,0.0,0.0,0.0,0.0]\n",
        "  l[xi] = 1.0\n",
        "  return np.array(l)\n",
        "for i in range(len(Y)):\n",
        "  lk.append(onehot(Y[i]))\n",
        "Y = np.array(lk, dtype = float)\n",
        "X = np.array(X, dtype = float)\n",
        "print(Y.shape)\n",
        "print(X.dtype)\n",
        "print(X.shape)\n",
        "print(Y.dtype)"
      ],
      "execution_count": 3,
      "outputs": [
        {
          "output_type": "stream",
          "text": [
            "(60000, 10)\n",
            "float64\n",
            "(60000, 784)\n",
            "float64\n"
          ],
          "name": "stdout"
        }
      ]
    },
    {
      "cell_type": "code",
      "metadata": {
        "id": "F3ChbTMT4Zmr",
        "colab_type": "code",
        "colab": {
          "base_uri": "https://localhost:8080/",
          "height": 86
        },
        "outputId": "cb8b388b-4979-4d83-8451-c1ffe47c4f84"
      },
      "source": [
        "#FOR TESTING\n",
        "X1 = X1.reshape(len(X1),784)\n",
        "lk1 = []\n",
        "def onehot(xi):\n",
        "  l = [0.0,0.0,0.0,0.0,0.0,0.0,0.0,0.0,0.0,0.0]\n",
        "  l[xi] = 1.0\n",
        "  return np.array(l)\n",
        "for i in range(len(Y1)):\n",
        "  lk1.append(onehot(Y1[i]))\n",
        "Y1 = np.array(lk1, dtype = float)\n",
        "X1 = np.array(X1, dtype = float)\n",
        "print(Y1.shape)\n",
        "print(X1.dtype)\n",
        "print(X1.shape)\n",
        "print(Y1.dtype)"
      ],
      "execution_count": 4,
      "outputs": [
        {
          "output_type": "stream",
          "text": [
            "(10000, 10)\n",
            "float64\n",
            "(10000, 784)\n",
            "float64\n"
          ],
          "name": "stdout"
        }
      ]
    },
    {
      "cell_type": "code",
      "metadata": {
        "id": "_WBhG-npdDUv",
        "colab_type": "code",
        "colab": {}
      },
      "source": [
        "#PLACEHOLDERS\n",
        "x = tf.compat.v1.placeholder(tf.float32,shape=[None, 784])"
      ],
      "execution_count": 0,
      "outputs": []
    },
    {
      "cell_type": "code",
      "metadata": {
        "id": "S-9hHYXgmFr3",
        "colab_type": "code",
        "outputId": "c162f3b1-23f9-4b73-ecc5-dd4313053558",
        "colab": {
          "base_uri": "https://localhost:8080/",
          "height": 89
        }
      },
      "source": [
        "#VARIABLES\n",
        "W = tf.compat.v1.Variable(tf.compat.v1.random_uniform([784,10]))\n",
        "b = tf.compat.v1.Variable(tf.compat.v1.random_uniform([10]))"
      ],
      "execution_count": 6,
      "outputs": [
        {
          "output_type": "stream",
          "text": [
            "WARNING:tensorflow:From /usr/local/lib/python3.6/dist-packages/tensorflow/python/ops/resource_variable_ops.py:1666: calling BaseResourceVariable.__init__ (from tensorflow.python.ops.resource_variable_ops) with constraint is deprecated and will be removed in a future version.\n",
            "Instructions for updating:\n",
            "If using Keras pass *_constraint arguments to layers.\n"
          ],
          "name": "stdout"
        }
      ]
    },
    {
      "cell_type": "code",
      "metadata": {
        "id": "_FYKXp3PmF_k",
        "colab_type": "code",
        "colab": {}
      },
      "source": [
        "#GRAPH OPERATIONS\n",
        "y = tf.matmul(x,W) + b"
      ],
      "execution_count": 0,
      "outputs": []
    },
    {
      "cell_type": "code",
      "metadata": {
        "id": "KKN5CISqmGTa",
        "colab_type": "code",
        "colab": {}
      },
      "source": [
        "#LOSS FUNCTION\n",
        "y_true = tf.compat.v1.placeholder(tf.float32,shape=[None,10])"
      ],
      "execution_count": 0,
      "outputs": []
    },
    {
      "cell_type": "code",
      "metadata": {
        "id": "fMeJ9fSFEWa3",
        "colab_type": "code",
        "colab": {}
      },
      "source": [
        "cross_entropy = tf.reduce_mean(tf.nn.softmax_cross_entropy_with_logits(labels=y_true,logits = y))"
      ],
      "execution_count": 0,
      "outputs": []
    },
    {
      "cell_type": "code",
      "metadata": {
        "id": "KtmUH_IGmHBg",
        "colab_type": "code",
        "colab": {}
      },
      "source": [
        "#OPTIMIZER\n",
        "optimizer = tf.compat.v1.train.GradientDescentOptimizer(learning_rate=0.5)\n",
        "train = optimizer.minimize(cross_entropy)"
      ],
      "execution_count": 0,
      "outputs": []
    },
    {
      "cell_type": "code",
      "metadata": {
        "id": "rHCs3981mFg2",
        "colab_type": "code",
        "outputId": "8b789a5a-3b86-4019-c52b-19f37c60ce63",
        "colab": {
          "base_uri": "https://localhost:8080/",
          "height": 86
        }
      },
      "source": [
        "#CREATE SESSION\n",
        "counter = 0 \n",
        "steps = 10000\n",
        "batch_size = 100\n",
        "init = tf.compat.v1.global_variables_initializer()\n",
        "with tf.compat.v1.Session() as sess:\n",
        "  sess.run(init)\n",
        "  for i in range(steps):\n",
        "    if(counter==len(X)):\n",
        "      counter = 0\n",
        "    batch_x  , batch_y = X[counter:counter+batch_size , :] , Y[counter:counter+batch_size , :]\n",
        "    counter+= batch_size \n",
        "    sess.run(train, feed_dict={x:batch_x, y_true:batch_y})\n",
        "  predictions = tf.equal(tf.argmax(y,1),tf.argmax(y_true,1))\n",
        "  acc = tf.reduce_mean(tf.cast(predictions,tf.float32))\n",
        "  print(sess.run(acc, feed_dict={ x:X, y_true:Y}))\n",
        "\n",
        "  print()\n",
        "  print(\"Final Accuracy on test set\")\n",
        "  print(\"Accuracy : \", sess.run(acc,feed_dict={ x:X1, y_true:Y1})) \n",
        "\n",
        "  #SAVING MODEL\n",
        "  saver = tf.compat.v1.train.Saver()\n",
        "  saver.save(sess, 'raw_result/mnist_raw.ckpt')"
      ],
      "execution_count": 11,
      "outputs": [
        {
          "output_type": "stream",
          "text": [
            "0.89468336\n",
            "\n",
            "Final Accuracy on test set\n",
            "Accuracy :  0.8922\n"
          ],
          "name": "stdout"
        }
      ]
    }
  ]
}