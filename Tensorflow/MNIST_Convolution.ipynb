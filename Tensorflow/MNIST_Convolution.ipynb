{
  "nbformat": 4,
  "nbformat_minor": 0,
  "metadata": {
    "colab": {
      "name": "MNIST Convolution.ipynb",
      "provenance": [],
      "collapsed_sections": [],
      "machine_shape": "hm"
    },
    "kernelspec": {
      "name": "python3",
      "display_name": "Python 3"
    },
    "accelerator": "GPU"
  },
  "cells": [
    {
      "cell_type": "code",
      "metadata": {
        "id": "JT8gHB4xGsbs",
        "colab_type": "code",
        "outputId": "50097dd0-bcb5-4fb5-a47c-1af87b5eb54c",
        "colab": {
          "base_uri": "https://localhost:8080/",
          "height": 34
        }
      },
      "source": [
        "import tensorflow as tf\n",
        "import pandas as pd\n",
        "import numpy as np\n",
        "device_name = tf.test.gpu_device_name()\n",
        "if device_name != '/device:GPU:0':\n",
        "  raise SystemError('GPU device not found')\n",
        "print('Found GPU at: {}'.format(device_name))"
      ],
      "execution_count": 1,
      "outputs": [
        {
          "output_type": "stream",
          "text": [
            "Found GPU at: /device:GPU:0\n"
          ],
          "name": "stdout"
        }
      ]
    },
    {
      "cell_type": "code",
      "metadata": {
        "id": "mw8fVMcRGbjF",
        "colab_type": "code",
        "outputId": "ed32bd62-652b-4072-b2d4-79fedd527596",
        "colab": {
          "base_uri": "https://localhost:8080/",
          "height": 121
        }
      },
      "source": [
        "(X, Y), (X1, Y1) = tf.keras.datasets.mnist.load_data()\n",
        "tf.compat.v1.disable_eager_execution()\n",
        "print(type(X))\n",
        "print(X.shape)\n",
        "print(X.dtype)\n",
        "print(type(Y))\n",
        "print(Y.shape)\n",
        "print(Y.dtype)"
      ],
      "execution_count": 2,
      "outputs": [
        {
          "output_type": "stream",
          "text": [
            "<class 'numpy.ndarray'>\n",
            "(60000, 28, 28)\n",
            "uint8\n",
            "<class 'numpy.ndarray'>\n",
            "(60000,)\n",
            "uint8\n"
          ],
          "name": "stdout"
        }
      ]
    },
    {
      "cell_type": "code",
      "metadata": {
        "id": "FDhLR8BLHcCU",
        "colab_type": "code",
        "outputId": "4aece614-bf8c-4fc7-d559-8fcb37cae821",
        "colab": {
          "base_uri": "https://localhost:8080/",
          "height": 86
        }
      },
      "source": [
        "#FOR TRAINING\n",
        "X = X.reshape(len(X),784)\n",
        "lk = []\n",
        "def onehot(xi):\n",
        "  l = [0.0,0.0,0.0,0.0,0.0,0.0,0.0,0.0,0.0,0.0]\n",
        "  l[xi] = 1.0\n",
        "  return np.array(l)\n",
        "for i in range(len(Y)):\n",
        "  lk.append(onehot(Y[i]))\n",
        "Y = np.array(lk, dtype = float)\n",
        "X = np.array(X, dtype = float)\n",
        "print(Y.shape)\n",
        "print(X.dtype)\n",
        "print(X.shape)\n",
        "print(Y.dtype)"
      ],
      "execution_count": 3,
      "outputs": [
        {
          "output_type": "stream",
          "text": [
            "(60000, 10)\n",
            "float64\n",
            "(60000, 784)\n",
            "float64\n"
          ],
          "name": "stdout"
        }
      ]
    },
    {
      "cell_type": "code",
      "metadata": {
        "id": "8PI3f2CP4FU0",
        "colab_type": "code",
        "colab": {
          "base_uri": "https://localhost:8080/",
          "height": 86
        },
        "outputId": "bc570b1f-4941-4e76-cd8c-eedbbae0382b"
      },
      "source": [
        "#FOR TESTING\n",
        "X1 = X1.reshape(len(X1),784)\n",
        "lk1 = []\n",
        "def onehot(xi):\n",
        "  l = [0.0,0.0,0.0,0.0,0.0,0.0,0.0,0.0,0.0,0.0]\n",
        "  l[xi] = 1.0\n",
        "  return np.array(l)\n",
        "for i in range(len(Y1)):\n",
        "  lk1.append(onehot(Y1[i]))\n",
        "Y1 = np.array(lk1, dtype = float)\n",
        "X1 = np.array(X1, dtype = float)\n",
        "print(Y1.shape)\n",
        "print(X1.dtype)\n",
        "print(X1.shape)\n",
        "print(Y1.dtype)"
      ],
      "execution_count": 4,
      "outputs": [
        {
          "output_type": "stream",
          "text": [
            "(10000, 10)\n",
            "float64\n",
            "(10000, 784)\n",
            "float64\n"
          ],
          "name": "stdout"
        }
      ]
    },
    {
      "cell_type": "code",
      "metadata": {
        "id": "WGoLmk0dHqBx",
        "colab_type": "code",
        "colab": {}
      },
      "source": [
        "#WEIGHTS INITIALIZER\n",
        "def init_weights(shape):\n",
        "  init_random_dist = tf.compat.v1.truncated_normal(shape,stddev=0.1)\n",
        "  return tf.Variable(init_random_dist)"
      ],
      "execution_count": 0,
      "outputs": []
    },
    {
      "cell_type": "code",
      "metadata": {
        "id": "VI1uumgnIkMF",
        "colab_type": "code",
        "colab": {}
      },
      "source": [
        "#BIAS INITIALIZER\n",
        "def init_bias(shape):\n",
        "  init_bias_vals = tf.constant(0.1,shape=shape)\n",
        "  return tf.Variable(init_bias_vals)"
      ],
      "execution_count": 0,
      "outputs": []
    },
    {
      "cell_type": "code",
      "metadata": {
        "id": "oWI984JBI6pb",
        "colab_type": "code",
        "colab": {}
      },
      "source": [
        "#CONVOLUTION\n",
        "def conv(x,W):\n",
        "  #x (input) -->[batch, height, width, channels]\n",
        "  #W (weights) --> [filter H, filter W, channels in, channels out]\n",
        "  return tf.nn.conv2d(x,W,strides = [1,1,1,1], padding = 'SAME')"
      ],
      "execution_count": 0,
      "outputs": []
    },
    {
      "cell_type": "code",
      "metadata": {
        "id": "8Wc66FPqJzDk",
        "colab_type": "code",
        "colab": {}
      },
      "source": [
        "#POOLING LAYER\n",
        "def pool(x):\n",
        "  #x --> same as above\n",
        "  return tf.nn.max_pool(x,ksize = [1,2,2,1], strides=[1,2,2,1], padding='SAME')"
      ],
      "execution_count": 0,
      "outputs": []
    },
    {
      "cell_type": "code",
      "metadata": {
        "id": "xY9isFfaKYGy",
        "colab_type": "code",
        "colab": {}
      },
      "source": [
        "#CONVOLUTIONAL LAYER\n",
        "def convolutional_layer(input_x, shape):\n",
        "  W = init_weights(shape)\n",
        "  b = init_bias([shape[3]])\n",
        "  return tf.nn.relu(conv(input_x, W)+b)"
      ],
      "execution_count": 0,
      "outputs": []
    },
    {
      "cell_type": "code",
      "metadata": {
        "id": "Whg3WTUTLE4L",
        "colab_type": "code",
        "colab": {}
      },
      "source": [
        "#NORMAL (FULLY CONNECTED)\n",
        "def normal_full_layer(input_layer,size):\n",
        "  input_size = int(input_layer.get_shape()[1])\n",
        "  W = init_weights([input_size,size])\n",
        "  b = init_bias([size])\n",
        "  return tf.matmul(input_layer,W)+b"
      ],
      "execution_count": 0,
      "outputs": []
    },
    {
      "cell_type": "code",
      "metadata": {
        "id": "Ij6jVqFlMb8g",
        "colab_type": "code",
        "colab": {}
      },
      "source": [
        "#PLACEHOLDERS\n",
        "x = tf.compat.v1.placeholder(tf.float32, shape=[None, 784])\n",
        "y_true = tf.compat.v1.placeholder(tf.float32, shape=[None,10])"
      ],
      "execution_count": 0,
      "outputs": []
    },
    {
      "cell_type": "code",
      "metadata": {
        "id": "MJ4XbDzoNBne",
        "colab_type": "code",
        "outputId": "d5b57c6a-722d-4426-b305-628e258a61ae",
        "colab": {
          "base_uri": "https://localhost:8080/",
          "height": 89
        }
      },
      "source": [
        "#LAYERS\n",
        "x_image = tf.reshape(x, [-1,28,28,1])\n",
        "convo1 = convolutional_layer(x_image, shape=[5,5,1,32])\n",
        "#shape =[a,b,c,d]\n",
        "#here a,b = batch size; c= input_featres , d=output_features\n",
        "convo1_pooling  = pool(convo1)\n",
        "convo2 = convolutional_layer(convo1_pooling, shape=[5,5,32,64])\n",
        "convo2_pooling = pool(convo2)\n",
        "\n",
        "convo2_flat = tf.reshape(convo2_pooling, [-1,7*7*64])\n",
        "full_layer_1 = tf.nn.relu(normal_full_layer(convo2_flat ,1024))"
      ],
      "execution_count": 12,
      "outputs": [
        {
          "output_type": "stream",
          "text": [
            "WARNING:tensorflow:From /usr/local/lib/python3.6/dist-packages/tensorflow/python/ops/resource_variable_ops.py:1666: calling BaseResourceVariable.__init__ (from tensorflow.python.ops.resource_variable_ops) with constraint is deprecated and will be removed in a future version.\n",
            "Instructions for updating:\n",
            "If using Keras pass *_constraint arguments to layers.\n"
          ],
          "name": "stdout"
        }
      ]
    },
    {
      "cell_type": "code",
      "metadata": {
        "id": "6BfD_BgDWf6o",
        "colab_type": "code",
        "colab": {}
      },
      "source": [
        "#DROPOUT\n",
        "drop_prob = tf.compat.v1.placeholder(tf.float32)\n",
        "full_one_dropout = tf.nn.dropout(full_layer_1, rate = drop_prob)"
      ],
      "execution_count": 0,
      "outputs": []
    },
    {
      "cell_type": "code",
      "metadata": {
        "id": "XPoivbZt9-37",
        "colab_type": "code",
        "colab": {}
      },
      "source": [
        "y_pred = normal_full_layer(full_one_dropout, 10)"
      ],
      "execution_count": 0,
      "outputs": []
    },
    {
      "cell_type": "code",
      "metadata": {
        "id": "BJrwOdjZ-S3D",
        "colab_type": "code",
        "colab": {}
      },
      "source": [
        "#LOSS FUNCTION\n",
        "cross_entropy = tf.reduce_mean(tf.nn.softmax_cross_entropy_with_logits(labels=y_true, logits=y_pred))"
      ],
      "execution_count": 0,
      "outputs": []
    },
    {
      "cell_type": "code",
      "metadata": {
        "id": "jPXH-C2G-yYF",
        "colab_type": "code",
        "colab": {}
      },
      "source": [
        "#OPTIMIZER\n",
        "optimizer = tf.compat.v1.train.AdamOptimizer(learning_rate=0.001)\n",
        "train = optimizer.minimize(cross_entropy)"
      ],
      "execution_count": 0,
      "outputs": []
    },
    {
      "cell_type": "code",
      "metadata": {
        "id": "6o0Os5Zj_SHO",
        "colab_type": "code",
        "colab": {}
      },
      "source": [
        "init = tf.compat.v1.global_variables_initializer()"
      ],
      "execution_count": 0,
      "outputs": []
    },
    {
      "cell_type": "code",
      "metadata": {
        "id": "_geLd-2O_biL",
        "colab_type": "code",
        "outputId": "4db90210-2963-4038-af79-0f78d5192be2",
        "colab": {
          "base_uri": "https://localhost:8080/",
          "height": 1000
        }
      },
      "source": [
        "#CREATE SESSION\n",
        "counter = 0 \n",
        "steps = 25000\n",
        "batch_size = 50\n",
        "drop_probability = 0.3  \n",
        "init = tf.compat.v1.global_variables_initializer()\n",
        "with tf.compat.v1.Session() as sess:\n",
        "  sess.run(init)\n",
        "  for i in range(steps):\n",
        "    if(counter==len(X)):\n",
        "      counter = 0\n",
        "    batch_x  , batch_y = X[counter:counter+batch_size , :] , Y[counter:counter+batch_size , :]\n",
        "    counter+= batch_size\n",
        "    sess.run(train, feed_dict={x:batch_x, y_true:batch_y, drop_prob:drop_probability})\n",
        "\n",
        "    if (i+1)%1000==0:\n",
        "      print('ON STEP : {}'.format(i+1))\n",
        "      matches = tf.equal(tf.argmax(y_pred,1),tf.argmax(y_true,1))\n",
        "      acc = tf.reduce_mean(tf.cast(matches,tf.float32))\n",
        "      print(\"Accuracy : \", sess.run(acc,feed_dict={ x:X, y_true:Y, drop_prob:0.0})) \n",
        "      print()\n",
        "  print()\n",
        "  print(\"Final Accuracy on test set\")\n",
        "  print(\"Accuracy : \", sess.run(acc,feed_dict={ x:X1, y_true:Y1, drop_prob:0.0})) \n",
        "\n",
        "  #SAVING MODEL\n",
        "  saver = tf.compat.v1.train.Saver()\n",
        "  saver.save(sess, 'convolution_result/mnist_convo.ckpt')"
      ],
      "execution_count": 18,
      "outputs": [
        {
          "output_type": "stream",
          "text": [
            "ON STEP : 1000\n",
            "Accuracy :  0.9615833\n",
            "\n",
            "ON STEP : 2000\n",
            "Accuracy :  0.97838336\n",
            "\n",
            "ON STEP : 3000\n",
            "Accuracy :  0.9780833\n",
            "\n",
            "ON STEP : 4000\n",
            "Accuracy :  0.9819833\n",
            "\n",
            "ON STEP : 5000\n",
            "Accuracy :  0.98175\n",
            "\n",
            "ON STEP : 6000\n",
            "Accuracy :  0.9891833\n",
            "\n",
            "ON STEP : 7000\n",
            "Accuracy :  0.9835\n",
            "\n",
            "ON STEP : 8000\n",
            "Accuracy :  0.98361665\n",
            "\n",
            "ON STEP : 9000\n",
            "Accuracy :  0.9862667\n",
            "\n",
            "ON STEP : 10000\n",
            "Accuracy :  0.98641664\n",
            "\n",
            "ON STEP : 11000\n",
            "Accuracy :  0.9887667\n",
            "\n",
            "ON STEP : 12000\n",
            "Accuracy :  0.98721665\n",
            "\n",
            "ON STEP : 13000\n",
            "Accuracy :  0.99185\n",
            "\n",
            "ON STEP : 14000\n",
            "Accuracy :  0.9916\n",
            "\n",
            "ON STEP : 15000\n",
            "Accuracy :  0.99345\n",
            "\n",
            "ON STEP : 16000\n",
            "Accuracy :  0.98641664\n",
            "\n",
            "ON STEP : 17000\n",
            "Accuracy :  0.99081665\n",
            "\n",
            "ON STEP : 18000\n",
            "Accuracy :  0.9925\n",
            "\n",
            "ON STEP : 19000\n",
            "Accuracy :  0.9952\n",
            "\n",
            "ON STEP : 20000\n",
            "Accuracy :  0.9944\n",
            "\n",
            "ON STEP : 21000\n",
            "Accuracy :  0.9936\n",
            "\n",
            "ON STEP : 22000\n",
            "Accuracy :  0.99675\n",
            "\n",
            "ON STEP : 23000\n",
            "Accuracy :  0.9906\n",
            "\n",
            "ON STEP : 24000\n",
            "Accuracy :  0.9967333\n",
            "\n",
            "ON STEP : 25000\n",
            "Accuracy :  0.9957167\n",
            "\n",
            "\n",
            "Final Accuracy on test set\n",
            "Accuracy :  0.9865\n"
          ],
          "name": "stdout"
        }
      ]
    }
  ]
}